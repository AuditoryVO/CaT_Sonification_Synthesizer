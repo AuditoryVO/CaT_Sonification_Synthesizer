{
 "cells": [
  {
   "cell_type": "markdown",
   "metadata": {},
   "source": [
    "# Pre-processing CaT stellar library spectra\n",
    "\n",
    "Data download: http://svocats.cab.inta-csic.es/catlib\n",
    "#### ACKNOWLEDGMENT\n",
    "This work is based on data from the CaT service developed by the Spanish Virtual Observatory in the framework of the IAU Comission G5 Working Group : Spectral Stellar Libraries."
   ]
  },
  {
   "cell_type": "code",
   "execution_count": 1,
   "metadata": {},
   "outputs": [],
   "source": [
    "from astropy.io import fits\n",
    "import matplotlib.pylab as plt\n",
    "import numpy as np\n",
    "\n",
    "import os\n",
    "from fnmatch import fnmatch\n",
    "\n",
    "from pathlib import Path"
   ]
  },
  {
   "cell_type": "code",
   "execution_count": 2,
   "metadata": {},
   "outputs": [],
   "source": [
    "root = '## YOUR FOLDER PATH TO THE DOWNLOADED SPECTRA ##'\n",
    "target = \"scan001.fits\""
   ]
  },
  {
   "cell_type": "code",
   "execution_count": 3,
   "metadata": {},
   "outputs": [
    {
     "name": "stdout",
     "output_type": "stream",
     "text": [
      "['/Users/adrian/Documents/FITS_Library/CaT_library_v9.1_FITS/scan001.fits']\n"
     ]
    }
   ],
   "source": [
    "for path, subdirs, files in os.walk(root):\n",
    "    for name in files:\n",
    "        if fnmatch(name, target):\n",
    "            print([os.path.join(path, name)])"
   ]
  },
  {
   "cell_type": "code",
   "execution_count": 4,
   "metadata": {},
   "outputs": [],
   "source": [
    "file = [os.path.join(path, name)]\n",
    "str = \" \" \n",
    "Ffile = (str.join(file))  \n",
    "\n",
    "route = Path(Ffile)\n",
    "\n",
    "Fname = route.with_suffix('')"
   ]
  },
  {
   "cell_type": "code",
   "execution_count": 5,
   "metadata": {},
   "outputs": [
    {
     "name": "stdout",
     "output_type": "stream",
     "text": [
      "/Users/adrian/Documents/FITS_Library/CaT_library_v9.1_FITS/scan347.fits\n",
      "/Users/adrian/Documents/FITS_Library/CaT_library_v9.1_FITS/scan347\n"
     ]
    }
   ],
   "source": [
    "type (Ffile)\n",
    "print (Ffile)\n",
    "print (Fname)"
   ]
  },
  {
   "cell_type": "markdown",
   "metadata": {},
   "source": [
    "## Data overview"
   ]
  },
  {
   "cell_type": "code",
   "execution_count": 6,
   "metadata": {},
   "outputs": [
    {
     "name": "stdout",
     "output_type": "stream",
     "text": [
      "\n",
      "\n",
      "Header of the spectrum :\n",
      "\n",
      " SIMPLE  =                    T / file does conform to FITS standard             BITPIX  =                  -32 / number of bits per data pixel                  NAXIS   =                    2 / number of data axes                            NAXIS1  =                  790 / length of data axis 1                          NAXIS2  =                    1 / length of data axis 2                          COMMENT   FITS (Flexible Image Transport System) format defined in Astronomy andCOMMENT   Astrophysics Supplement Series v44/p363, v44/p371, v73/p359, v73/p365.COMMENT   Contact the NASA Science Office of Standards and Technology for the   COMMENT   FITS Definition document #100 and other FITS information.             COMMENT   ----------------------------------------------------------------------COMMENT   ************************** REDUCEME HEADER ***************************COMMENT   ----------------------------------------------------------------------HISTORY   Date: 07/09/01                                                        CRVAL1  =              8348.85 / central wavelength of first pixel              CDELT1  =               0.8500 / linear dispersion (Angstrom/pixel)             OBJECT  = 'NGC7789_338'        / Object name                                    FITSFI  = '[none]  '           / Object name                                    COMMENT   [from genimage]                                                       AIRMASS =              0.00000 / Airmass                                        TIMEXPO =                  0.0 / Timexpos                                       END                                                                                                                                                                                                                                                                                                                                                                                                                                                                                                                                                                                                                                                                                                                                                                                                                                                                                                                                                                                                                                                                                                                                                                                                                                                                                                                              \n",
      "\n",
      "\n"
     ]
    }
   ],
   "source": [
    "from astropy.io import fits\n",
    "\n",
    "file = \"/Users/adrian/Documents/FITS_Library/CaT_library_v9.1_FITS/scan145.fits\"\n",
    "\n",
    "sp = fits.open(file)\n",
    "print('\\n\\nHeader of the spectrum :\\n\\n', sp[0].header, '\\n\\n')\n",
    "\n",
    "flux2 = np.zeros(sp[0].header['NAXIS1'], dtype=float)\n",
    "flux2 = np.array(sp[0].data)\n",
    "flux_norm = flux2/(np.nanmax(flux2))\n",
    "\n",
    "wave2 = np.ones(sp[0].header['NAXIS1'], dtype=float)\n",
    "for i in range(sp[0].header['NAXIS1']):\n",
    "    wave2[i] = sp[0].header['CRVAL1'] + i*sp[0].header['CDELT1']"
   ]
  },
  {
   "cell_type": "code",
   "execution_count": 7,
   "metadata": {},
   "outputs": [],
   "source": [
    "flux_ok = np.reshape(flux_norm, (sp[0].header['NAXIS1']))"
   ]
  },
  {
   "cell_type": "code",
   "execution_count": 8,
   "metadata": {},
   "outputs": [
    {
     "data": {
      "image/png": "[encoded data removed]",
      "text/plain": [
       "<Figure size 864x576 with 1 Axes>"
      ]
     },
     "metadata": {
      "needs_background": "light"
     },
     "output_type": "display_data"
    }
   ],
   "source": [
    "# Plot the spectrum\n",
    "fig = plt.figure(1, figsize=(12, 8))\n",
    "plt.plot(wave2, flux_ok)\n",
    "plt.xlabel('Wavelength [Å]')\n",
    "plt.ylabel('ADU')\n",
    "plt.title(file)\n",
    "plt.show()"
   ]
  },
  {
   "cell_type": "markdown",
   "metadata": {},
   "source": [
    "Number of files in the folder"
   ]
  },
  {
   "cell_type": "code",
   "execution_count": 9,
   "metadata": {},
   "outputs": [
    {
     "name": "stdout",
     "output_type": "stream",
     "text": [
      "707\n",
      "790\n"
     ]
    }
   ],
   "source": [
    "num = 1\n",
    "dim1 = sp[0].header['NAXIS1']\n",
    "#dim2=1\n",
    "\n",
    "for path, subdirs, files in os.walk(root):\n",
    "    for nanme in files:\n",
    "        num += 1\n",
    "print(num)\n",
    "print(dim1)"
   ]
  },
  {
   "cell_type": "code",
   "execution_count": 10,
   "metadata": {},
   "outputs": [
    {
     "name": "stderr",
     "output_type": "stream",
     "text": [
      "2024-02-03 19:01:16.591879: I tensorflow/core/platform/cpu_feature_guard.cc:193] This TensorFlow binary is optimized with oneAPI Deep Neural Network Library (oneDNN) to use the following CPU instructions in performance-critical operations:  AVX2 AVX512F AVX512_VNNI FMA\n",
      "To enable them in other operations, rebuild TensorFlow with the appropriate compiler flags.\n"
     ]
    }
   ],
   "source": [
    "import tensorflow as tf\n",
    "autoencoder = tf.keras.models.load_model('2layers_6dim_CaT_autoencoder.tf')"
   ]
  },
  {
   "cell_type": "code",
   "execution_count": 11,
   "metadata": {},
   "outputs": [
    {
     "data": {
      "text/plain": [
       "PosixPath('/Users/adrian/Documents/FITS_Library/CaT_library_v9.1_FITS/scan347')"
      ]
     },
     "execution_count": 11,
     "metadata": {},
     "output_type": "execute_result"
    }
   ],
   "source": [
    "Fname"
   ]
  },
  {
   "cell_type": "code",
   "execution_count": 12,
   "metadata": {},
   "outputs": [
    {
     "data": {
      "text/plain": [
       "'/Users/adrian/Documents/FITS_Library/CaT_library_v9.1_FITS/scan347.fits'"
      ]
     },
     "execution_count": 12,
     "metadata": {},
     "output_type": "execute_result"
    }
   ],
   "source": [
    "Ffile"
   ]
  },
  {
   "cell_type": "code",
   "execution_count": 13,
   "metadata": {},
   "outputs": [
    {
     "data": {
      "text/plain": [
       "'/Users/adrian/Documents/FITS_Library/CaT_library_v9.1_FITS/scan145.fits'"
      ]
     },
     "execution_count": 13,
     "metadata": {},
     "output_type": "execute_result"
    }
   ],
   "source": [
    "file"
   ]
  },
  {
   "cell_type": "code",
   "execution_count": 14,
   "metadata": {},
   "outputs": [
    {
     "data": {
      "text/plain": [
       "'scan347.fits'"
      ]
     },
     "execution_count": 14,
     "metadata": {},
     "output_type": "execute_result"
    }
   ],
   "source": [
    "name"
   ]
  },
  {
   "cell_type": "code",
   "execution_count": 15,
   "metadata": {},
   "outputs": [],
   "source": [
    "rec_route = '## YOUR PATH TO CREATE THE IMAGE DATABASE ##'"
   ]
  },
  {
   "cell_type": "code",
   "execution_count": 16,
   "metadata": {},
   "outputs": [
    {
     "data": {
      "text/plain": [
       "'/Volumes/WORK/DOCTORADO_UPM/Library/CaT/scan347.fits'"
      ]
     },
     "execution_count": 16,
     "metadata": {},
     "output_type": "execute_result"
    }
   ],
   "source": [
    "rec_route+name"
   ]
  },
  {
   "cell_type": "code",
   "execution_count": 17,
   "metadata": {},
   "outputs": [
    {
     "data": {
      "text/plain": [
       "'scan347'"
      ]
     },
     "execution_count": 17,
     "metadata": {},
     "output_type": "execute_result"
    }
   ],
   "source": [
    "os.path.splitext(os.path.splitext(name)[0])[0]"
   ]
  },
  {
   "cell_type": "code",
   "execution_count": 18,
   "metadata": {},
   "outputs": [
    {
     "data": {
      "text/plain": [
       "'/Volumes/WORK/DOCTORADO_UPM/Library/CaT/scan347'"
      ]
     },
     "execution_count": 18,
     "metadata": {},
     "output_type": "execute_result"
    }
   ],
   "source": [
    "rec_route + os.path.splitext(os.path.splitext(name)[0])[0]"
   ]
  },
  {
   "cell_type": "markdown",
   "metadata": {},
   "source": [
    "## Preprocessing spectra"
   ]
  },
  {
   "cell_type": "code",
   "execution_count": 19,
   "metadata": {},
   "outputs": [],
   "source": [
    "from scipy.signal import find_peaks\n",
    "from sklearn.metrics import r2_score"
   ]
  },
  {
   "cell_type": "code",
   "execution_count": null,
   "metadata": {
    "scrolled": true
   },
   "outputs": [],
   "source": [
    "latent_dim = 6\n",
    "curves = 0\n",
    "decoded_set = np.zeros((num, dim1))\n",
    "label_set = np.zeros((num, ), dtype=int)\n",
    "spectra_set = [''] * num\n",
    "\n",
    "latent_set = np.zeros((num, latent_dim))\n",
    "peaks_set = []\n",
    "r_square_set = np.zeros((num,))\n",
    "\n",
    "for path, subdirs, files in os.walk(root):\n",
    "    for name in files:\n",
    "        file = [os.path.join(path, name)]\n",
    "        str = \" \" \n",
    "        Ffile = (str.join(file))\n",
    "        route = Path(name)\n",
    "        Fname = route.with_suffix('')\n",
    "        Fpng = route.with_suffix('.png')\n",
    "\n",
    "        data, header = fits.getdata(Ffile, header=True)\n",
    "        hdu_number = 0\n",
    "        fits.getheader(Ffile, hdu_number)\n",
    "        fits_file = Ffile\n",
    "        \n",
    "        with fits.open(fits_file, mode='readonly') as hdulist:\n",
    "            hdulist.info()\n",
    "            data = np.array(hdulist[0].data)\n",
    "             \n",
    "            data_norm = data/(np.nanmax(data))\n",
    "\n",
    "            label_set[curves] = curves\n",
    "            spectra_set[curves] = name\n",
    "                \n",
    "        #calculates and represents the peaks---------\n",
    "        flux_norm = np.squeeze(data_norm)\n",
    "\n",
    "        peaks, properties = find_peaks(-flux_norm, prominence=0.15, width=1, distance = 40, rel_height = 0.5)\n",
    "        properties[\"prominences\"], properties[\"widths\"]\n",
    "\n",
    "        fig = plt.figure(1, figsize=(12, 8))\n",
    "        plt.plot(wave2, flux_norm)\n",
    "        plt.xlabel('Wavelength [Å]')\n",
    "        plt.ylabel('ADU')\n",
    "        plt.title(header['OBJECT'])\n",
    "\n",
    "        plt.plot(peaks * header['CDELT1'] + sp[0].header['CRVAL1'], flux_norm[peaks], \".\", color = \"r\")\n",
    "        plt.vlines(x=peaks * header['CDELT1']+ sp[0].header['CRVAL1'], ymin=flux_norm[peaks] - properties[\"prominences\"],\n",
    "                   ymax = flux_norm[peaks], color = \"r\")\n",
    "        \n",
    "        star_name = rec_route + os.path.splitext(os.path.splitext(name)[0])[0]\n",
    "        img_name = \"%s.png\" % star_name\n",
    "        plt.savefig(img_name, format='png')\n",
    "\n",
    "        plt.show()\n",
    "        \n",
    "        print(\"Peaks found: \", len(peaks))\n",
    "        peaks_set.append(peaks)\n",
    "        #-----------  \n",
    "            \n",
    "        hdulist.close\n",
    "        \n",
    "        #Autoencoding\n",
    "\n",
    "        encoded_img = autoencoder.encoder(data_norm).numpy()\n",
    "        decoded_img = autoencoder.decoder(encoded_img).numpy()\n",
    "        latent_set[curves] = encoded_img\n",
    "        decoded_set[curves] = decoded_img\n",
    " \n",
    "        r2 = r2_score(data_norm[0], decoded_img[0], multioutput='variance_weighted')\n",
    "        r_square_set[curves] = r2\n",
    "        print(\"R_square: \", r2)\n",
    " \n",
    "        \n",
    "        curves += 1\n",
    "        plt.close()\n",
    "\n",
    "   \n",
    "            \n",
    "#--------------------------------------------------------------------\n",
    "        print (\"Spectra loaded:\",curves);\n",
    "        print (\"------------------------------------\")"
   ]
  },
  {
   "cell_type": "markdown",
   "metadata": {},
   "source": [
    "## Checking & Saving"
   ]
  },
  {
   "cell_type": "code",
   "execution_count": 21,
   "metadata": {},
   "outputs": [
    {
     "data": {
      "text/plain": [
       "(707, 6)"
      ]
     },
     "execution_count": 21,
     "metadata": {},
     "output_type": "execute_result"
    }
   ],
   "source": [
    "latent_set.shape"
   ]
  },
  {
   "cell_type": "code",
   "execution_count": 22,
   "metadata": {},
   "outputs": [
    {
     "data": {
      "text/plain": [
       "array([0.62334186, 0.36953616, 0.33505434, 0.96863413, 0.36118969,\n",
       "       0.38025385])"
      ]
     },
     "execution_count": 22,
     "metadata": {},
     "output_type": "execute_result"
    }
   ],
   "source": [
    "latent_set[100]"
   ]
  },
  {
   "cell_type": "code",
   "execution_count": 23,
   "metadata": {},
   "outputs": [],
   "source": [
    "np.save('latent_CaT', latent_set)"
   ]
  },
  {
   "cell_type": "code",
   "execution_count": 24,
   "metadata": {},
   "outputs": [
    {
     "data": {
      "text/plain": [
       "0.9984697103500366"
      ]
     },
     "execution_count": 24,
     "metadata": {},
     "output_type": "execute_result"
    }
   ],
   "source": [
    "np.nanmax(latent_set)"
   ]
  },
  {
   "cell_type": "code",
   "execution_count": 25,
   "metadata": {},
   "outputs": [
    {
     "data": {
      "text/plain": [
       "0.0"
      ]
     },
     "execution_count": 25,
     "metadata": {},
     "output_type": "execute_result"
    }
   ],
   "source": [
    "np.nanmin(latent_set)"
   ]
  },
  {
   "cell_type": "code",
   "execution_count": 26,
   "metadata": {},
   "outputs": [],
   "source": [
    "np.save('decoded_CaT', decoded_set)"
   ]
  },
  {
   "cell_type": "code",
   "execution_count": 27,
   "metadata": {},
   "outputs": [],
   "source": [
    "np.save('r_square_CaT', r_square_set)"
   ]
  },
  {
   "cell_type": "code",
   "execution_count": 28,
   "metadata": {
    "scrolled": true
   },
   "outputs": [
    {
     "data": {
      "text/plain": [
       "0.9290968451972651"
      ]
     },
     "execution_count": 28,
     "metadata": {},
     "output_type": "execute_result"
    }
   ],
   "source": [
    "r_square_set[700]"
   ]
  },
  {
   "cell_type": "code",
   "execution_count": 32,
   "metadata": {},
   "outputs": [],
   "source": [
    "np.save('peaks_CaT', peaks_set)"
   ]
  },
  {
   "cell_type": "code",
   "execution_count": 168,
   "metadata": {},
   "outputs": [],
   "source": [
    "np.save('Spectra_CaT', spectra_set)"
   ]
  },
  {
   "cell_type": "code",
   "execution_count": 169,
   "metadata": {},
   "outputs": [
    {
     "data": {
      "text/plain": [
       "'scan446.fits'"
      ]
     },
     "execution_count": 169,
     "metadata": {},
     "output_type": "execute_result"
    }
   ],
   "source": [
    "spectra_set[0]"
   ]
  },
  {
   "cell_type": "markdown",
   "metadata": {},
   "source": [
    "## \"Chordification\" test"
   ]
  },
  {
   "cell_type": "code",
   "execution_count": 113,
   "metadata": {
    "scrolled": true
   },
   "outputs": [
    {
     "data": {
      "text/plain": [
       "array([[87, 30, 30, 96, 10, 31],\n",
       "       [62, 54, 28, 98, 37, 60],\n",
       "       [88, 34, 34, 96, 12, 36],\n",
       "       ...,\n",
       "       [77, 40, 21, 98,  9, 71],\n",
       "       [56, 43, 27, 98, 50, 52],\n",
       "       [ 0,  0,  0,  0,  0,  0]])"
      ]
     },
     "execution_count": 113,
     "metadata": {},
     "output_type": "execute_result"
    }
   ],
   "source": [
    "ansi_chords = (np.ceil(100*latent_set)).astype(int)\n",
    "ansi_chords"
   ]
  },
  {
   "cell_type": "code",
   "execution_count": 115,
   "metadata": {},
   "outputs": [
    {
     "data": {
      "text/plain": [
       "(707, 6)"
      ]
     },
     "execution_count": 115,
     "metadata": {},
     "output_type": "execute_result"
    }
   ],
   "source": [
    "ansi_chords.shape"
   ]
  },
  {
   "cell_type": "code",
   "execution_count": 116,
   "metadata": {},
   "outputs": [],
   "source": [
    "chords = [[] for _ in ansi_chords]"
   ]
  },
  {
   "cell_type": "code",
   "execution_count": 117,
   "metadata": {},
   "outputs": [],
   "source": [
    "for i in range(ansi_chords.shape[0]):\n",
    "    for j in range(ansi_chords.shape[1]):\n",
    "        chords[i].append(pygame.midi.midi_to_ansi_note(ansi_chords[i][j]))"
   ]
  },
  {
   "cell_type": "code",
   "execution_count": 118,
   "metadata": {
    "collapsed": true
   },
   "outputs": [
    {
     "data": {
      "text/plain": [
       "[['D#6', 'F#1', 'F#1', 'C7', 'A#-1', 'G1'],\n",
       " ['D4', 'F#3', 'E1', 'D7', 'C#2', 'C4'],\n",
       " ['E6', 'A#1', 'A#1', 'C7', 'C0', 'C2'],\n",
       " ['B4', 'F2', 'D#1', 'D7', 'C#0', 'G#4'],\n",
       " ['A5', 'B2', 'D2', 'C#7', 'C1', 'C#3'],\n",
       " ['A#2', 'F1', 'F#3', 'D#7', 'A-1', 'A4'],\n",
       " ['A#5', 'F2', 'D1', 'C#7', 'C#0', 'D#3'],\n",
       " ['G#5', 'G3', 'D1', 'C#7', 'E0', 'F#3'],\n",
       " ['F5', 'D2', 'D#0', 'D7', 'B-1', 'D#3'],\n",
       " ['A#6', 'D#6', 'C7', 'C1', 'C#-1', 'D-1'],\n",
       " ['G3', 'F#1', 'F5', 'C#7', 'A#0', 'G2'],\n",
       " ['A#2', 'C3', 'B3', 'D7', 'F2', 'E4'],\n",
       " ['C5', 'A#0', 'F#0', 'D7', 'D2', 'A1'],\n",
       " ['A#4', 'F2', 'A0', 'C#7', 'C2', 'B1'],\n",
       " ['D#5', 'B1', 'D#0', 'D7', 'F#0', 'G3'],\n",
       " ['E4', 'E6', 'C#2', 'C7', 'C0', 'D#5'],\n",
       " ['F5', 'E4', 'F1', 'D7', 'G0', 'E5'],\n",
       " ['B3', 'G#2', 'C#7', 'F6', 'E0', 'A#0'],\n",
       " ['G5', 'C#2', 'A#2', 'C#7', 'D1', 'E2'],\n",
       " ['C#5', 'G#3', 'C1', 'D7', 'A-1', 'D#5'],\n",
       " ['F#5', 'E3', 'G#1', 'D7', 'A#0', 'B3'],\n",
       " ['C#2', 'G#5', 'B3', 'C#7', 'E2', 'A#5'],\n",
       " ['A#5', 'F#3', 'D#1', 'C#7', 'F#1', 'G#3'],\n",
       " ['F#5', 'E5', 'C#1', 'C#7', 'E0', 'G#4'],\n",
       " ['B1', 'C2', 'F#5', 'C7', 'E5', 'D2'],\n",
       " ['A4', 'B3', 'D7', 'F6', 'F#-1', 'F#1'],\n",
       " ['G#4', 'D1', 'A0', 'D7', 'D2', 'F#2'],\n",
       " ['C6', 'G#2', 'B2', 'C7', 'E0', 'B2'],\n",
       " ['C#4', 'C#2', 'B5', 'F5', 'B6', 'D#0'],\n",
       " ['A#3', 'B2', 'C#4', 'D7', 'C#0', 'F#5'],\n",
       " ['A3', 'D4', 'C#3', 'A#6', 'D#6', 'D3'],\n",
       " ['G4', 'F#3', 'F#1', 'D7', 'G#1', 'G4'],\n",
       " ['F#5', 'F1', 'F1', 'D7', 'A0', 'G#2'],\n",
       " ['F3', 'C3', 'A#1', 'D7', 'D#3', 'F#3'],\n",
       " ['C5', 'C4', 'G#1', 'D7', 'B1', 'G4'],\n",
       " ['D#4', 'A2', 'A#4', 'D7', 'B-1', 'A4'],\n",
       " ['B6', 'F#3', 'A#6', 'F#1', 'C#-1', 'D-1'],\n",
       " ['A#4', 'A1', 'D#1', 'D7', 'F2', 'F#2'],\n",
       " ['B4', 'E2', 'A0', 'C#7', 'E2', 'C#2'],\n",
       " ['E5', 'C2', 'A1', 'D7', 'D0', 'C#4'],\n",
       " ['A#3', 'A#2', 'A#5', 'A#5', 'A#6', 'G0'],\n",
       " ['G#5', 'A4', 'D#1', 'C#7', 'C1', 'A#3'],\n",
       " ['A5', 'G#2', 'A0', 'A6', 'F5', 'B0'],\n",
       " ['F#4', 'A3', 'F#0', 'D7', 'B-1', 'F#5'],\n",
       " ['E5', 'A3', 'G1', 'D7', 'B0', 'C5'],\n",
       " ['D3', 'F#3', 'G#3', 'D7', 'D2', 'F4'],\n",
       " ['G2', 'C#3', 'A5', 'A6', 'C#6', 'F2'],\n",
       " ['F5', 'A1', 'C#0', 'D7', 'F#0', 'A#2'],\n",
       " ['G#3', 'G#2', 'D6', 'D#6', 'F#6', 'C1'],\n",
       " ['C#6', 'B2', 'G#0', 'A#6', 'G4', 'E1'],\n",
       " ['B5', 'D4', 'D#0', 'C#7', 'C2', 'G#2'],\n",
       " ['G#4', 'F3', 'C#2', 'D7', 'D2', 'F#3'],\n",
       " ['C5', 'E3', 'A#1', 'D7', 'C#2', 'B3'],\n",
       " ['G4', 'F#2', 'A#3', 'C#7', 'C1', 'F#3'],\n",
       " ['C5', 'G#1', 'F#1', 'D7', 'F1', 'G2'],\n",
       " ['B5', 'D#2', 'D2', 'E5', 'G#6', 'A#-1'],\n",
       " ['D#5', 'G4', 'C#1', 'C#7', 'D1', 'G3'],\n",
       " ['C#5', 'D2', 'A1', 'D7', 'G#1', 'G#2'],\n",
       " ['E5', 'D#2', 'C2', 'C#7', 'B1', 'D#2'],\n",
       " ['C#5', 'D#2', 'E3', 'D7', 'E0', 'D4'],\n",
       " ['D#4', 'G3', 'D3', 'D7', 'E1', 'G4'],\n",
       " ['F#3', 'E4', 'G#3', 'A#6', 'E6', 'E3'],\n",
       " ['G#2', 'A#4', 'C5', 'C#7', 'D3', 'D#5'],\n",
       " ['E5', 'E3', 'A#1', 'D7', 'G#0', 'B4'],\n",
       " ['E5', 'B2', 'B1', 'D7', 'G#-1', 'B4'],\n",
       " ['F5', 'C#2', 'C1', 'D7', 'F-1', 'A3'],\n",
       " ['C6', 'B2', 'G2', 'B6', 'G#0', 'C2'],\n",
       " ['G5', 'F#2', 'A#0', 'C#7', 'A#2', 'G#2'],\n",
       " ['G4', 'G#3', 'A#0', 'D7', 'D0', 'G#4'],\n",
       " ['D5', 'D3', 'G0', 'C#7', 'D#1', 'C2'],\n",
       " ['F5', 'E6', 'A0', 'C7', 'D#0', 'A#4'],\n",
       " ['C5', 'F#3', 'D#2', 'D7', 'C1', 'A4'],\n",
       " ['C5', 'D#3', 'G#2', 'D7', 'A#-1', 'D5'],\n",
       " ['F#5', 'G#4', 'D1', 'B6', 'F#4', 'E4'],\n",
       " ['D4', 'C#3', 'D#1', 'D7', 'A#1', 'F3'],\n",
       " ['G#6', 'G#4', 'A#6', 'D2', 'D-1', 'D-1'],\n",
       " ['F5', 'G#1', 'E0', 'D7', 'A0', 'D#3'],\n",
       " ['D5', 'C#2', 'F0', 'D7', 'G1', 'G3'],\n",
       " ['G5', 'G2', 'A0', 'D7', 'A#0', 'F4'],\n",
       " ['A#4', 'B2', 'B6', 'E6', 'C#0', 'A#0'],\n",
       " ['D#4', 'F4', 'C3', 'C7', 'G#4', 'G3'],\n",
       " ['C5', 'E2', 'F#1', 'C#7', 'C2', 'F#2'],\n",
       " ['B4', 'D#2', 'F0', 'D7', 'G#-1', 'F4'],\n",
       " ['F#5', 'D2', 'F#0', 'D7', 'D#0', 'G2'],\n",
       " ['E2', 'A#5', 'F-1', 'B6', 'C#6', 'C7'],\n",
       " ['G#4', 'B3', 'D2', 'D7', 'A2', 'C4'],\n",
       " ['A4', 'G#2', 'G0', 'D#7', 'A-1', 'D5'],\n",
       " ['D#5', 'E2', 'G#0', 'D7', 'A-1', 'B4'],\n",
       " ['F#3', 'D#4', 'C2', 'C#7', 'F#2', 'B2'],\n",
       " ['D#4', 'F2', 'D2', 'D#7', 'F#-1', 'G5'],\n",
       " ['A5', 'F2', 'D#1', 'C#7', 'F#0', 'A#2'],\n",
       " ['E5', 'C2', 'G0', 'D7', 'B0', 'A2'],\n",
       " ['C5', 'D#2', 'D2', 'D7', 'A0', 'D#3'],\n",
       " ['E5', 'A2', 'A1', 'D7', 'A#-1', 'C5'],\n",
       " ['A#5', 'B2', 'F#1', 'C#7', 'A0', 'D#3'],\n",
       " ['G4', 'B2', 'G#1', 'D7', 'A#1', 'F#3'],\n",
       " ['B4', 'F3', 'F2', 'D7', 'G1', 'A3'],\n",
       " ['A#5', 'B2', 'C#2', 'C7', 'G0', 'G2'],\n",
       " ['F4', 'B2', 'E1', 'D7', 'C#2', 'F#3'],\n",
       " ['C#5', 'C#4', 'B1', 'D7', 'C1', 'G5'],\n",
       " ['D#4', 'C#2', 'A#1', 'C#7', 'C#2', 'D#2'],\n",
       " ['F5', 'C#2', 'D#1', 'C7', 'F1', 'F#1'],\n",
       " ['A#3', 'C2', 'G1', 'D7', 'E2', 'E3'],\n",
       " ['C#4', 'A6', 'B-1', 'A#6', 'C0', 'D#5'],\n",
       " ['C5', 'G#2', 'A#1', 'D7', 'G1', 'G#3'],\n",
       " ['E5', 'G4', 'B0', 'C#7', 'C0', 'D#4'],\n",
       " ['D5', 'D2', 'A#1', 'D7', 'A#1', 'D3'],\n",
       " ['E5', 'E2', 'C1', 'D7', 'F#-1', 'C4'],\n",
       " ['G6', 'A#2', 'E3', 'G5', 'B-1', 'F#-1'],\n",
       " ['C5', 'A#3', 'C2', 'D7', 'B1', 'C#5'],\n",
       " ['C6', 'C#3', 'A#0', 'C#7', 'C#0', 'A2'],\n",
       " ['A#6', 'F2', 'A1', 'E6', 'D-1', 'D#0'],\n",
       " ['C6', 'B2', 'A#2', 'C7', 'G#0', 'D#2'],\n",
       " ['C3', 'D4', 'F#4', 'D7', 'G#0', 'D6'],\n",
       " ['G#4', 'C#3', 'E2', 'D7', 'D#1', 'G#4'],\n",
       " ['A#4', 'B1', 'F#0', 'D7', 'D#1', 'A2'],\n",
       " ['E5', 'A#4', 'G#0', 'C#7', 'C#1', 'A#3'],\n",
       " ['D5', 'G3', 'G2', 'C#7', 'C1', 'G3'],\n",
       " ['G#4', 'C#4', 'D3', 'D7', 'D0', 'D5'],\n",
       " ['F3', 'F3', 'G#4', 'D7', 'G0', 'G#5'],\n",
       " ['B3', 'B2', 'A2', 'D7', 'D2', 'E4'],\n",
       " ['G6', 'D6', 'F0', 'D#6', 'D#-1', 'G-1'],\n",
       " ['E5', 'B1', 'F#1', 'D7', 'F#-1', 'F4'],\n",
       " ['A5', 'G#2', 'D1', 'C#7', 'G#0', 'E2'],\n",
       " ['A#5', 'G1', 'G1', 'C#7', 'F#0', 'A2'],\n",
       " ['A4', 'E3', 'C#2', 'D7', 'E1', 'A4'],\n",
       " ['G#4', 'D3', 'E1', 'D7', 'A1', 'G#4'],\n",
       " ['G#5', 'E2', 'B0', 'D7', 'D0', 'C4'],\n",
       " ['F#5', 'D3', 'D#1', 'D7', 'A0', 'A4'],\n",
       " ['B4', 'G2', 'F0', 'D7', 'G#-1', 'G#4'],\n",
       " ['C#4', 'C#4', 'D1', 'D7', 'G#0', 'G#6'],\n",
       " ['E5', 'B2', 'B0', 'D7', 'B-1', 'D5'],\n",
       " ['D5', 'D#3', 'A#0', 'D7', 'C#1', 'A#5'],\n",
       " ['A2', 'C#4', 'F#5', 'A#6', 'F#5', 'G2'],\n",
       " ['A4', 'D3', 'F2', 'D7', 'B1', 'F#4'],\n",
       " ['D#5', 'C#3', 'F#1', 'D7', 'B0', 'A#4'],\n",
       " ['C#5', 'C1', 'C#1', 'C#7', 'C2', 'G#1'],\n",
       " ['C4', 'A3', 'D2', 'D7', 'F2', 'A4'],\n",
       " ['F4', 'G3', 'F2', 'D7', 'B0', 'G#5'],\n",
       " ['E6', 'B1', 'D#2', 'A6', 'D#2', 'A0'],\n",
       " ['C5', 'F#3', 'D1', 'D7', 'B0', 'C#6'],\n",
       " ['G#4', 'D#3', 'D#1', 'D7', 'G#1', 'C5'],\n",
       " ['D5', 'D3', 'G#1', 'D7', 'G0', 'A4'],\n",
       " ['D4', 'C#2', 'G#6', 'F#6', 'F#0', 'A#0'],\n",
       " ['A5', 'A#1', 'F1', 'C#7', 'D#0', 'F2'],\n",
       " ['E5', 'G#1', 'A0', 'D#7', 'A#-1', 'A4'],\n",
       " ['F#5', 'D#2', 'A1', 'C#7', 'A#1', 'E2'],\n",
       " ['A5', 'F#3', 'G#1', 'C#7', 'G#0', 'G3'],\n",
       " ['F#4', 'D#3', 'G#1', 'D7', 'F2', 'F#3'],\n",
       " ['E2', 'D6', 'C#4', 'C7', 'G1', 'C#6'],\n",
       " ['D#5', 'A1', 'C#1', 'C#7', 'G#1', 'D2'],\n",
       " ['F#5', 'B3', 'D1', 'D7', 'C#0', 'C#5'],\n",
       " ['D5', 'B1', 'B1', 'C#7', 'C2', 'E2'],\n",
       " ['C4', 'G#5', 'C#1', 'C7', 'C2', 'A2'],\n",
       " ['C#5', 'A#1', 'E0', 'D7', 'D1', 'G2'],\n",
       " ['B4', 'D#3', 'D1', 'A#6', 'D6', 'B1'],\n",
       " ['B3', 'E4', 'C#7', 'D6', 'A#-1', 'A0'],\n",
       " ['G#5', 'G2', 'F1', 'C7', 'A0', 'B1'],\n",
       " ['G4', 'A#5', 'G#0', 'C7', 'G#2', 'C#3'],\n",
       " ['G#6', 'G2', 'C6', 'E4', 'D#-1', 'F#-1'],\n",
       " ['F#3', 'D#7', 'F1', 'G#4', 'F5', 'C1'],\n",
       " ['E4', 'G3', 'E2', 'D7', 'A-1', 'G#5'],\n",
       " ['D#5', 'G#2', 'C#2', 'D7', 'C1', 'A#4'],\n",
       " ['F4', 'C#5', 'E4', 'D#6', 'A#6', 'G#2'],\n",
       " ['G4', 'F#2', 'D#1', 'D7', 'F#-1', 'A#4'],\n",
       " ['F#5', 'F2', 'A1', 'D7', 'B-1', 'G4'],\n",
       " ['D#5', 'D#5', 'G0', 'C#7', 'B0', 'A#3'],\n",
       " ['F#4', 'F#2', 'D2', 'D7', 'F-1', 'G4'],\n",
       " ['G#5', 'F#2', 'A#1', 'C#7', 'A#0', 'E3'],\n",
       " ['C#3', 'G#4', 'G#4', 'D7', 'G#0', 'B5'],\n",
       " ['D#4', 'C#3', 'F1', 'D7', 'D2', 'B3'],\n",
       " ['B4', 'E2', 'F0', 'D7', 'A#1', 'B2'],\n",
       " ['D5', 'E3', 'D1', 'D7', 'A#-1', 'D#5'],\n",
       " ['F2', 'C4', 'G5', 'C7', 'E4', 'G4'],\n",
       " ['E5', 'F4', 'C#2', 'C#7', 'G#0', 'C5'],\n",
       " ['F3', 'G#3', 'G4', 'G#5', 'C#7', 'A#0'],\n",
       " ['F5', 'C2', 'C#1', 'D7', 'D#1', 'G3'],\n",
       " ['F#3', 'G#3', 'C#3', 'D7', 'A-1', 'C#6'],\n",
       " ['G#4', 'D2', 'F1', 'D7', 'G#1', 'C3'],\n",
       " ['G#4', 'D2', 'D#2', 'D7', 'C#2', 'D#3'],\n",
       " ['F#6', 'E1', 'B1', 'B5', 'F5', 'B-1'],\n",
       " ['F4', 'A#3', 'A#1', 'D7', 'F1', 'A#5'],\n",
       " ['A2', 'B2', 'A2', 'D7', 'F2', 'D#4'],\n",
       " ['B4', 'F4', 'D#2', 'C#7', 'B2', 'G#4'],\n",
       " ['G3', 'B2', 'B2', 'D6', 'D7', 'F2'],\n",
       " ['D#4', 'A#3', 'D4', 'D7', 'B-1', 'C5'],\n",
       " ['A3', 'C5', 'B4', 'G6', 'G#6', 'A3'],\n",
       " ['E4', 'A2', 'G#4', 'A6', 'D5', 'G1'],\n",
       " ['E5', 'F3', 'C#0', 'D7', 'E0', 'D5'],\n",
       " ['D4', 'A#1', 'A#3', 'C#7', 'C#1', 'F#2'],\n",
       " ['E4', 'B2', 'F#3', 'E5', 'A6', 'C0'],\n",
       " ['F#4', 'E3', 'D#2', 'D7', 'C2', 'F4'],\n",
       " ['A#4', 'G#2', 'G#0', 'D#7', 'F-1', 'C#5'],\n",
       " ['D4', 'G#6', 'C0', 'B6', 'C#0', 'G#5'],\n",
       " ['G4', 'G0', 'G#0', 'D7', 'F#2', 'D2'],\n",
       " ['G#4', 'D3', 'C1', 'C#7', 'A1', 'F#2'],\n",
       " ['D5', 'A1', 'F0', 'D7', 'C#1', 'F#3'],\n",
       " ['B3', 'A#4', 'C#4', 'F#6', 'G6', 'G#2'],\n",
       " ['D#5', 'E2', 'A0', 'D7', 'F0', 'D#5'],\n",
       " ['E4', 'E3', 'C2', 'D7', 'C#2', 'A#3'],\n",
       " ['D#4', 'E3', 'G#1', 'D7', 'C#2', 'B4'],\n",
       " ['G#4', 'F#2', 'C#4', 'D7', 'D0', 'G#4'],\n",
       " ['B3', 'B2', 'C#3', 'D7', 'G2', 'G3'],\n",
       " ['F#6', 'A0', 'B1', 'F#5', 'F#5', 'G#-1'],\n",
       " ['A#4', 'G#2', 'C3', 'C#7', 'E1', 'C3'],\n",
       " ['G#4', 'G#3', 'F#1', 'D7', 'G#1', 'G3'],\n",
       " ['G#4', 'A2', 'G0', 'D7', 'A-1', 'C#5'],\n",
       " ['G#5', 'A#2', 'F1', 'D7', 'D0', 'B3'],\n",
       " ['D4', 'A3', 'B0', 'D7', 'G#2', 'A#3'],\n",
       " ['A4', 'B1', 'A#0', 'D7', 'A1', 'D2'],\n",
       " ['G5', 'F1', 'A1', 'C7', 'D1', 'F1'],\n",
       " ['F5', 'D1', 'C#0', 'D7', 'B0', 'G2'],\n",
       " ['D5', 'G#4', 'A1', 'D7', 'D1', 'G#5'],\n",
       " ['C5', 'C#5', 'A#1', 'C#7', 'G#1', 'A#5'],\n",
       " ['C5', 'E3', 'C1', 'D7', 'A#-1', 'C#5'],\n",
       " ['E5', 'D4', 'C2', 'D7', 'F0', 'F5'],\n",
       " ['F6', 'G#1', 'D5', 'G#5', 'F#-1', 'A#-1'],\n",
       " ['F#4', 'A4', 'D2', 'C#7', 'E0', 'C4'],\n",
       " ['A#3', 'A#3', 'G#2', 'G6', 'A6', 'C#3'],\n",
       " ['G5', 'D5', 'A0', 'C#7', 'G0', 'A#3'],\n",
       " ['A5', 'B2', 'C#1', 'D7', 'F#0', 'F3'],\n",
       " ['G#5', 'E3', 'D1', 'D7', 'A#0', 'G#3'],\n",
       " ['A4', 'B1', 'G#2', 'D7', 'B0', 'C#3'],\n",
       " ['C4', 'D#2', 'C1', 'D7', 'G2', 'D#3'],\n",
       " ['C5', 'G#2', 'F#2', 'C#7', 'D#1', 'C3'],\n",
       " ['D#4', 'F5', 'A#3', 'A#6', 'C#5', 'F4'],\n",
       " ['G4', 'B2', 'D4', 'D7', 'A#-1', 'A4'],\n",
       " ['D5', 'F2', 'B1', 'D7', 'G-1', 'A4'],\n",
       " ['F3', 'A#3', 'F4', 'D7', 'D1', 'E5'],\n",
       " ['A#5', 'G#1', 'G1', 'D7', 'C#0', 'G3'],\n",
       " ['D#4', 'C#5', 'D3', 'A#6', 'G5', 'D#4'],\n",
       " ['A5', 'B2', 'C#2', 'C#7', 'B-1', 'G#3'],\n",
       " ['D4', 'D4', 'C2', 'C7', 'C#3', 'F2'],\n",
       " ['F5', 'D2', 'G0', 'D7', 'A-1', 'F#4'],\n",
       " ['G#4', 'A#1', 'F#2', 'D7', 'A#1', 'G2'],\n",
       " ['G4', 'F#5', 'E0', 'C#7', 'A-1', 'B4'],\n",
       " ['D#5', 'A4', 'A#0', 'C#7', 'D#1', 'G3'],\n",
       " ['G#5', 'F#2', 'B0', 'D7', 'C#1', 'G3'],\n",
       " ['G6', 'C3', 'G#1', 'E6', 'A5', 'G0'],\n",
       " ['C#4', 'C2', 'B6', 'F6', 'G0', 'G0'],\n",
       " ['D#4', 'G#3', 'D#1', 'D7', 'D3', 'F#3'],\n",
       " ['F#4', 'C#4', 'F#2', 'D7', 'D#0', 'D6'],\n",
       " ['F#5', 'C1', 'C3', 'C7', 'E1', 'D1'],\n",
       " ['F#4', 'F#3', 'G2', 'D7', 'D2', 'A#3'],\n",
       " ['F5', 'D#4', 'E1', 'C#7', 'E1', 'B4'],\n",
       " ['C4', 'F1', 'D#2', 'C#7', 'C#2', 'C2'],\n",
       " ['A#5', 'C2', 'G1', 'C7', 'G#0', 'G1'],\n",
       " ['C5', 'G#1', 'G#0', 'D7', 'G1', 'G#3'],\n",
       " ['G4', 'F5', 'B0', 'B6', 'G#4', 'A4'],\n",
       " ['F6', 'C2', 'C#4', 'A#6', 'A-1', 'G#1'],\n",
       " ['E6', 'C3', 'C2', 'A6', 'F#4', 'D1'],\n",
       " ['G4', 'F#4', 'G#2', 'G#6', 'F#6', 'D3'],\n",
       " ['G#3', 'G#5', 'G2', 'B6', 'D#4', 'E3'],\n",
       " ['C#2', 'A#2', 'F#5', 'A#6', 'C#6', 'C2'],\n",
       " ['B4', 'A#6', 'C#4', 'F#6', 'G#-1', 'D#1'],\n",
       " ['G#5', 'C4', 'E1', 'C#7', 'G#0', 'B2'],\n",
       " ['G#2', 'F2', 'F6', 'A#6', 'D5', 'C#2'],\n",
       " ['C#5', 'A#3', 'A#1', 'D7', 'D1', 'C5'],\n",
       " ['F#6', 'C#3', 'E2', 'A6', 'D#3', 'D#1'],\n",
       " ['B3', 'G4', 'F#4', 'D7', 'E0', 'C5'],\n",
       " ['D#4', 'C#3', 'B2', 'D7', 'C2', 'G#3'],\n",
       " ['F5', 'A2', 'C3', 'C#7', 'A0', 'D3'],\n",
       " ['B5', 'C#3', 'G2', 'C7', 'B0', 'B2'],\n",
       " ['F5', 'C5', 'C1', 'C#7', 'B-1', 'C4'],\n",
       " ['D#3', 'D#2', 'G#6', 'G#6', 'C#5', 'F#1'],\n",
       " ['F#5', 'F2', 'G#1', 'C#7', 'A1', 'D2'],\n",
       " ['A3', 'G2', 'E3', 'D7', 'A-1', 'D5'],\n",
       " ['E5', 'G3', 'E2', 'D7', 'E1', 'A#4'],\n",
       " ['D5', 'A3', 'C#2', 'D7', 'G1', 'A4'],\n",
       " ['A4', 'D2', 'D3', 'D7', 'D#0', 'C4'],\n",
       " ['E4', 'A#4', 'D#4', 'F#6', 'A#6', 'F3'],\n",
       " ['B2', 'C#3', 'F#5', 'G6', 'F#6', 'A#1'],\n",
       " ['F5', 'E2', 'G0', 'D7', 'F1', 'G2'],\n",
       " ['D#5', 'C#3', 'C3', 'C#7', 'B-1', 'C#4'],\n",
       " ['C5', 'E2', 'G1', 'D7', 'E-1', 'G4'],\n",
       " ['A#4', 'F#3', 'G2', 'C#7', 'D#3', 'F#3'],\n",
       " ['C#5', 'D#2', 'D1', 'D7', 'E1', 'F#3'],\n",
       " ['A#4', 'F5', 'C#7', 'F5', 'E-1', 'D0'],\n",
       " ['D#5', 'F3', 'C#1', 'D7', 'D1', 'D#5'],\n",
       " ['D#5', 'G2', 'C0', 'D7', 'G0', 'F3'],\n",
       " ['B3', 'F#3', 'D#2', 'D7', 'D2', 'D4'],\n",
       " ['C#4', 'B6', 'C0', 'A#6', 'C0', 'F#5'],\n",
       " ['G#5', 'D3', 'D1', 'D7', 'G0', 'C4'],\n",
       " ['A3', 'G#4', 'G4', 'D#6', 'C#7', 'D#3'],\n",
       " ['F5', 'A2', 'D#1', 'D7', 'F1', 'E3'],\n",
       " ['F#5', 'D#2', 'A3', 'C#5', 'F6', 'G#-1'],\n",
       " ['A4', 'D#5', 'G2', 'B6', 'E4', 'A#4'],\n",
       " ['C6', 'C#2', 'F#2', 'C#7', 'F0', 'A2'],\n",
       " ['A4', 'F#5', 'D#0', 'C#7', 'A-1', 'G#4'],\n",
       " ['B2', 'F#1', 'A3', 'D7', 'F2', 'E3'],\n",
       " ['F5', 'E4', 'A1', 'C#7', 'A1', 'A#4'],\n",
       " ['G#4', 'F#4', 'D#2', 'D7', 'A#0', 'D6'],\n",
       " ['D#5', 'D#1', 'F0', 'D#7', 'G#0', 'B3'],\n",
       " ['G#5', 'A#3', 'D1', 'D7', 'E1', 'C5'],\n",
       " ['D5', 'A2', 'D#2', 'C#7', 'E1', 'G2'],\n",
       " ['E5', 'A#2', 'B1', 'C#7', 'F#1', 'C#2'],\n",
       " ['A#3', 'G4', 'D4', 'D7', 'C0', 'C5'],\n",
       " ['G3', 'C3', 'G#1', 'D7', 'C4', 'A#3'],\n",
       " ['A#2', 'B2', 'A4', 'D7', 'D1', 'F5'],\n",
       " ['B3', 'B5', 'C3', 'C#7', 'G0', 'F4'],\n",
       " ['A#5', 'C#2', 'G1', 'C#7', 'A#-1', 'F3'],\n",
       " ['F#4', 'G#4', 'E1', 'C#7', 'F#2', 'A2'],\n",
       " ['D#-1', 'E7', 'A#3', 'C4', 'A#2', 'G#3'],\n",
       " ['B3', 'A2', 'F4', 'D7', 'B0', 'E5'],\n",
       " ['E5', 'G1', 'G1', 'B6', 'C2', 'G0'],\n",
       " ['A4', 'C4', 'G2', 'C7', 'A#4', 'D#3'],\n",
       " ['B4', 'D#4', 'A1', 'D7', 'F#0', 'A#5'],\n",
       " ['F#5', 'B3', 'D#3', 'A#6', 'A4', 'D2'],\n",
       " ['F#4', 'E3', 'C#1', 'D7', 'C0', 'C5'],\n",
       " ['G#4', 'A2', 'F#0', 'D#7', 'A#-1', 'D5'],\n",
       " ['F#5', 'A#3', 'C1', 'D7', 'C#0', 'D#4'],\n",
       " ['F4', 'D#3', 'C1', 'D7', 'C#2', 'D#4'],\n",
       " ['F#4', 'D#3', 'A0', 'D7', 'C#2', 'A2'],\n",
       " ['D#5', 'D#2', 'A1', 'D7', 'A1', 'B2'],\n",
       " ['D5', 'D2', 'B0', 'D7', 'G-1', 'F#4'],\n",
       " ['A#4', 'G#1', 'F1', 'D7', 'A1', 'A2'],\n",
       " ['B4', 'G2', 'G1', 'D7', 'A#1', 'A#2'],\n",
       " ['D4', 'C#5', 'F2', 'B6', 'B4', 'C4'],\n",
       " ['D#5', 'C#2', 'C#1', 'D7', 'C#1', 'D3'],\n",
       " ['C6', 'F2', 'A#2', 'C7', 'F0', 'F2'],\n",
       " ['F#3', 'A#2', 'E4', 'D7', 'B0', 'D5'],\n",
       " ['C#4', 'B4', 'A#4', 'F6', 'B6', 'F#3'],\n",
       " ['G4', 'G3', 'G1', 'D7', 'A#1', 'B3'],\n",
       " ['F5', 'C#2', 'C#1', 'D7', 'F0', 'A4'],\n",
       " ['F#1', 'E3', 'A#4', 'C#7', 'C#4', 'G4'],\n",
       " ['C#4', 'C#7', 'B-1', 'A6', 'A#-1', 'A#4'],\n",
       " ['A#2', 'B3', 'D#3', 'A6', 'G#6', 'F#3'],\n",
       " ['A4', 'A#3', 'C#1', 'C#7', 'C2', 'B2'],\n",
       " ['D#3', 'F3', 'C#2', 'C#7', 'D#5', 'B2'],\n",
       " ['F#5', 'E3', 'F1', 'C#7', 'G0', 'F#3'],\n",
       " ['D#5', 'G#1', 'G0', 'D#7', 'G0', 'F4'],\n",
       " ['C#5', 'G#3', 'A1', 'D7', 'G#1', 'D4'],\n",
       " ['F#4', 'D1', 'C2', 'C#7', 'G2', 'D#1'],\n",
       " ['A#2', 'C#7', 'B3', 'A#5', 'D5', 'F2'],\n",
       " ['B5', 'A2', 'A#1', 'C#7', 'B-1', 'G3'],\n",
       " ['G#5', 'E3', 'F1', 'D7', 'F0', 'G#4'],\n",
       " ['G#4', 'D4', 'C#2', 'C#7', 'A#3', 'G3'],\n",
       " ['A#2', 'C4', 'F2', 'A6', 'A6', 'A#3'],\n",
       " ['F5', 'C2', 'D#2', 'D7', 'A-1', 'F4'],\n",
       " ['E4', 'B1', 'E3', 'C#7', 'D#1', 'F#2'],\n",
       " ['E2', 'G#1', 'B2', 'D#7', 'D3', 'C4'],\n",
       " ['D#4', 'G#2', 'B0', 'D7', 'F#3', 'F3'],\n",
       " ['D#5', 'B1', 'D#1', 'D7', 'E1', 'F3'],\n",
       " ['G5', 'B3', 'A#5', 'A6', 'D0', 'C#2'],\n",
       " ['B6', 'C#5', 'C#7', 'A#0', 'C#-1', 'C#-1'],\n",
       " ['C6', 'A#1', 'F2', 'B6', 'D1', 'E1'],\n",
       " ['F4', 'A3', 'D3', 'D7', 'G#0', 'G#5'],\n",
       " ['A4', 'G#5', 'C1', 'C7', 'F1', 'A3'],\n",
       " ['E5', 'D2', 'E2', 'D7', 'A-1', 'C#5'],\n",
       " ['D4', 'F#2', 'F#0', 'D#7', 'A1', 'D#4'],\n",
       " ['F6', 'C#2', 'D3', 'A6', 'E0', 'C#1'],\n",
       " ['F5', 'G2', 'G0', 'D7', 'A0', 'A#3'],\n",
       " ['G#6', 'C#3', 'A6', 'D2', 'D#-1', 'D-1'],\n",
       " ['B5', 'E3', 'E2', 'C#7', 'A0', 'E3'],\n",
       " ['E5', 'D2', 'E1', 'D7', 'G#0', 'B3'],\n",
       " ['D4', 'G4', 'G2', 'C7', 'F#4', 'B3'],\n",
       " ['F5', 'G#1', 'D3', 'C7', 'A0', 'G1'],\n",
       " ['B3', 'G2', 'G3', 'D7', 'C1', 'D5'],\n",
       " ['G#4', 'C#4', 'A1', 'C#7', 'G#2', 'D#4'],\n",
       " ['A3', 'C#4', 'C#3', 'D7', 'B-1', 'B5'],\n",
       " ['A4', 'F#1', 'G#1', 'D7', 'F2', 'G2'],\n",
       " ['B6', 'A2', 'G#6', 'C2', 'C#-1', 'D-1'],\n",
       " ['A#3', 'E4', 'A#2', 'D7', 'C0', 'D#6'],\n",
       " ['E5', 'D#3', 'A#0', 'D7', 'F#1', 'C#4'],\n",
       " ['A#4', 'G1', 'F1', 'C#7', 'C#2', 'E1'],\n",
       " ['F#3', 'B3', 'A3', 'D7', 'A#0', 'G#5'],\n",
       " ['G#4', 'B3', 'G#0', 'C#7', 'C#2', 'A#2'],\n",
       " ['C5', 'F3', 'A#0', 'D7', 'C1', 'D#5'],\n",
       " ['A4', 'G#3', 'G#0', 'D7', 'B-1', 'F4'],\n",
       " ['F#4', 'C#3', 'E2', 'D7', 'F2', 'F3'],\n",
       " ['C#5', 'D#4', 'G1', 'D7', 'B0', 'E5'],\n",
       " ['B3', 'F4', 'D3', 'D7', 'B0', 'G5'],\n",
       " ['A#3', 'E3', 'A#3', 'D7', 'G#0', 'E5'],\n",
       " ['D#5', 'G3', 'G0', 'D7', 'D#1', 'A5'],\n",
       " ['E3', 'D#3', 'B1', 'D7', 'F#4', 'G3'],\n",
       " ['G5', 'G#1', 'B1', 'D7', 'G-1', 'D4'],\n",
       " ['B5', 'D1', 'C#3', 'A#6', 'C0', 'C1'],\n",
       " ['F3', 'C#5', 'G#3', 'A6', 'D#6', 'B3'],\n",
       " ['A5', 'C#3', 'E1', 'C#7', 'E1', 'A2'],\n",
       " ['A#3', 'D#6', 'D3', 'C7', 'G#0', 'B4'],\n",
       " ['G5', 'A1', 'G#1', 'D7', 'F#0', 'A3'],\n",
       " ['F4', 'C2', 'A#2', 'D7', 'C#2', 'C3'],\n",
       " ['F#5', 'E1', 'G#4', 'C7', 'A#-1', 'F#2'],\n",
       " ['F5', 'G2', 'D1', 'D7', 'D1', 'B2'],\n",
       " ['D#5', 'C#2', 'B0', 'D7', 'F-1', 'F#4'],\n",
       " ['C6', 'E2', 'E2', 'C7', 'F#0', 'G2'],\n",
       " ['G4', 'D#3', 'C#3', 'D7', 'A-1', 'C#5'],\n",
       " ['A3', 'D#4', 'D#4', 'D7', 'G1', 'C#5'],\n",
       " ['D#4', 'F#2', 'G#1', 'B6', 'D#6', 'A#1'],\n",
       " ['F#5', 'G#2', 'F#0', 'D7', 'C1', 'D3'],\n",
       " ['G4', 'F3', 'C#2', 'D7', 'F#1', 'D#5'],\n",
       " ['G4', 'G#3', 'C1', 'C#7', 'C#2', 'A2'],\n",
       " ['G#5', 'D#3', 'F1', 'D7', 'E0', 'A#3'],\n",
       " ['G#2', 'G2', 'G#5', 'F6', 'G6', 'D1'],\n",
       " ['G5', 'G#2', 'F1', 'D7', 'C#1', 'A3'],\n",
       " ['A5', 'G2', 'F#1', 'C7', 'F3', 'G1'],\n",
       " ['F#5', 'F#2', 'C1', 'D7', 'D#0', 'B3'],\n",
       " ['C#6', 'G#2', 'G2', 'C7', 'C#0', 'A2'],\n",
       " ['E5', 'A2', 'D1', 'D7', 'E1', 'G#3'],\n",
       " ['F#5', 'F2', 'F0', 'D7', 'D#0', 'G4'],\n",
       " ['D#4', 'E2', 'D2', 'D7', 'C2', 'B3'],\n",
       " ['A5', 'A1', 'E4', 'D#4', 'A6', 'G-1'],\n",
       " ['F#6', 'F#2', 'G5', 'C#6', 'F#-1', 'E0'],\n",
       " ['F#4', 'G#3', 'G#1', 'D7', 'C2', 'D4'],\n",
       " ['B4', 'D4', 'D4', 'G6', 'F#6', 'F#2'],\n",
       " ['A4', 'E3', 'F1', 'D7', 'G1', 'E5'],\n",
       " ['C#7', 'C#2', 'C4', 'G4', 'C3', 'F-1'],\n",
       " ['B4', 'G#5', 'C#7', 'G5', 'D#-1', 'F0'],\n",
       " ['E4', 'A3', 'G#3', 'D7', 'B-1', 'E5'],\n",
       " ['D#2', 'G3', 'A#5', 'C#7', 'F4', 'E4'],\n",
       " ['G#5', 'D#4', 'C#1', 'C#7', 'A#0', 'A3'],\n",
       " ['G#3', 'G#3', 'G#2', 'D7', 'G#2', 'C4'],\n",
       " ['D#4', 'C2', 'A1', 'D7', 'D#2', 'F2'],\n",
       " ['D6', 'E2', 'G#3', 'B6', 'F-1', 'G#2'],\n",
       " ['F4', 'A5', 'D0', 'C#7', 'A#-1', 'E5'],\n",
       " ['A4', 'G3', 'F2', 'D7', 'A#1', 'F4'],\n",
       " ['B4', 'D#3', 'D#1', 'D7', 'C#1', 'A#3'],\n",
       " ['E5', 'G3', 'D#2', 'D7', 'A0', 'F5'],\n",
       " ['D3', 'F#2', 'C2', 'D7', 'D3', 'F3'],\n",
       " ['D#4', 'C2', 'G#1', 'D#7', 'G#-1', 'C6'],\n",
       " ['B5', 'C3', 'A2', 'C#7', 'A#-1', 'F3'],\n",
       " ['F5', 'A#5', 'E1', 'C7', 'E0', 'D5'],\n",
       " ['B3', 'D3', 'A3', 'D7', 'D#0', 'D#5'],\n",
       " ['C4', 'A#5', 'B2', 'C7', 'G0', 'D4'],\n",
       " ['F3', 'C5', 'A#4', 'C#7', 'G#0', 'C5'],\n",
       " ['G3', 'F3', 'F2', 'D7', 'A3', 'G3'],\n",
       " ['A#3', 'E2', 'G2', 'D#7', 'G#1', 'C5'],\n",
       " ['G#3', 'G#1', 'C3', 'D7', 'G2', 'A#2'],\n",
       " ['G5', 'B2', 'D1', 'C#7', 'D1', 'G2'],\n",
       " ['A#5', 'B1', 'E1', 'B6', 'G#0', 'G#0'],\n",
       " ['G4', 'D5', 'F#2', 'C#7', 'G#-1', 'C#4'],\n",
       " ['F4', 'G1', 'C1', 'D#7', 'F2', 'F3'],\n",
       " ['B5', 'E1', 'A#1', 'C#7', 'A#-1', 'G2'],\n",
       " ['B2', 'F4', 'G4', 'A6', 'D6', 'C3'],\n",
       " ['G1', 'D4', 'F5', 'D7', 'C2', 'E4'],\n",
       " ['D6', 'C#2', 'A#2', 'A#6', 'E0', 'C#1'],\n",
       " ['C5', 'D4', 'D1', 'D7', 'C#1', 'A4'],\n",
       " ['D#6', 'D2', 'G#2', 'B6', 'G0', 'A#1'],\n",
       " ['F5', 'F1', 'G1', 'C#7', 'E-1', 'D#3'],\n",
       " ['A#5', 'A2', 'C2', 'C#7', 'F#0', 'A#2'],\n",
       " ['D5', 'C#5', 'D#1', 'C#7', 'C1', 'G5'],\n",
       " ['C#4', 'A4', 'F#3', 'A6', 'E6', 'G3'],\n",
       " ['G#5', 'A2', 'D#1', 'D7', 'D0', 'D4'],\n",
       " ['G5', 'B2', 'A2', 'C#7', 'C1', 'G#2'],\n",
       " ['G#4', 'F#5', 'C#2', 'C7', 'G#-1', 'A#3'],\n",
       " ['G#4', 'G#3', 'D1', 'D7', 'C1', 'A5'],\n",
       " ['D#-1', 'E7', 'D4', 'A#4', 'A#0', 'A3'],\n",
       " ['A#6', 'D6', 'C7', 'A0', 'C#-1', 'C#-1'],\n",
       " ['C3', 'C#4', 'D#4', 'D7', 'F1', 'A5'],\n",
       " ['A4', 'G#2', 'A2', 'D7', 'A0', 'A#4'],\n",
       " ['G#6', 'D4', 'F#6', 'F3', 'D-1', 'E-1'],\n",
       " ['A3', 'A#5', 'D4', 'C#7', 'C#0', 'D#5'],\n",
       " ['A#3', 'F#2', 'E4', 'D7', 'G1', 'C4'],\n",
       " ['A4', 'F3', 'F2', 'C#7', 'A0', 'D3'],\n",
       " ['F3', 'D#3', 'G4', 'D7', 'F1', 'A#4'],\n",
       " ['E5', 'G3', 'A1', 'D7', 'A#0', 'A#4'],\n",
       " ['D#4', 'C6', 'D#0', 'C#7', 'A#-1', 'E5'],\n",
       " ['D5', 'C#2', 'D#1', 'D7', 'C#2', 'G#2'],\n",
       " ['C#5', 'G4', 'E1', 'D7', 'G#0', 'F5'],\n",
       " ['E4', 'D3', 'E2', 'D7', 'A#2', 'A3'],\n",
       " ['A#4', 'F#1', 'B0', 'D7', 'C2', 'A#2'],\n",
       " ['F#4', 'G2', 'C#5', 'A4', 'B6', 'A#-1'],\n",
       " ['B5', 'C2', 'F2', 'C#7', 'G0', 'A2'],\n",
       " ['E5', 'A#3', 'A1', 'D7', 'G0', 'F4'],\n",
       " ['E5', 'D5', 'A0', 'C#7', 'B0', 'F#3'],\n",
       " ['D5', 'C2', 'E0', 'D7', 'F1', 'C#3'],\n",
       " ['F#6', 'F4', 'A#6', 'F2', 'D-1', 'D#-1'],\n",
       " ['D5', 'C#2', 'A1', 'C#7', 'G#1', 'A2'],\n",
       " ['D3', 'D#4', 'F4', 'F6', 'C7', 'D#3'],\n",
       " ['F5', 'C#1', 'F0', 'D7', 'B0', 'B1'],\n",
       " ['G4', 'C4', 'A1', 'D7', 'E2', 'D#4'],\n",
       " ['G#5', 'A3', 'F1', 'D7', 'D1', 'C#4'],\n",
       " ['B6', 'G3', 'G3', 'G#5', 'D#-1', 'C0'],\n",
       " ['G4', 'F3', 'C#1', 'D7', 'F2', 'D4'],\n",
       " ['C#3', 'A#2', 'D3', 'D7', 'A0', 'A#4'],\n",
       " ['C#5', 'E4', 'F1', 'D7', 'F#0', 'A5'],\n",
       " ['A#4', 'G3', 'C#2', 'D7', 'C2', 'A#3'],\n",
       " ['E5', 'E2', 'G1', 'D7', 'B0', 'A#3'],\n",
       " ['A#5', 'A2', 'E2', 'C#7', 'G0', 'A2'],\n",
       " ['E5', 'C3', 'F2', 'D7', 'D0', 'F#4'],\n",
       " ['G#4', 'C4', 'D#2', 'D7', 'A1', 'E4'],\n",
       " ['A#6', 'G1', 'C4', 'D5', 'A#5', 'G-1'],\n",
       " ['G4', 'E2', 'C#1', 'D7', 'D2', 'G2'],\n",
       " ['G#5', 'C4', 'E1', 'D7', 'D#0', 'A4'],\n",
       " ['F3', 'A#3', 'D3', 'D7', 'C2', 'F#4'],\n",
       " ['C#5', 'F4', 'A2', 'C#7', 'G1', 'F#4'],\n",
       " ['D#5', 'G4', 'G1', 'C#7', 'A1', 'C#5'],\n",
       " ['D5', 'D#2', 'E2', 'D7', 'D0', 'B3'],\n",
       " ['C#4', 'D2', 'D5', 'C#5', 'C7', 'C0'],\n",
       " ['E5', 'G#1', 'C#3', 'C7', 'A#0', 'C#2'],\n",
       " ['C3', 'A1', 'E2', 'D7', 'E3', 'D#3'],\n",
       " ['D#4', 'G2', 'A2', 'D7', 'C2', 'F3'],\n",
       " ['C5', 'D#1', 'A5', 'C4', 'G#6', 'F#-1'],\n",
       " ['C3', 'A2', 'D2', 'D7', 'B3', 'G#3'],\n",
       " ['G#3', 'C7', 'G#2', 'C6', 'C5', 'C2'],\n",
       " ['A2', 'C4', 'D3', 'A6', 'A6', 'G3'],\n",
       " ['D#6', 'D#1', 'B4', 'F6', 'G#-1', 'F#0'],\n",
       " ['D5', 'F3', 'A#0', 'D7', 'G#0', 'C6'],\n",
       " ['D5', 'A#3', 'A1', 'D7', 'C#0', 'F5'],\n",
       " ['C5', 'F3', 'F#1', 'C#7', 'G#1', 'C3'],\n",
       " ['F6', 'A#6', 'F-1', 'G#6', 'E-1', 'G-1'],\n",
       " ['E5', 'A#1', 'D0', 'D7', 'A0', 'E3'],\n",
       " ['B4', 'G#3', 'G#0', 'D7', 'D2', 'B3'],\n",
       " ['C#5', 'G#4', 'A1', 'D7', 'E1', 'G5'],\n",
       " ['F#5', 'F2', 'G0', 'C#7', 'A#0', 'C#2'],\n",
       " ['G3', 'F#4', 'D#3', 'D7', 'C#0', 'C#6'],\n",
       " ['F4', 'F4', 'A0', 'C#7', 'G#1', 'A#2'],\n",
       " ['C5', 'E3', 'B0', 'D7', 'A#0', 'D#5'],\n",
       " ['G4', 'F#4', 'F#0', 'D7', 'A#-1', 'A4'],\n",
       " ['C#4', 'E2', 'E2', 'D#7', 'F#-1', 'G5'],\n",
       " ['D#4', 'D#5', 'F4', 'G6', 'E6', 'E3'],\n",
       " ['G4', 'C#4', 'B1', 'C#7', 'A#2', 'F4'],\n",
       " ['C5', 'G3', 'E1', 'D7', 'D#1', 'G3'],\n",
       " ['C5', 'D#3', 'C1', 'D7', 'E1', 'F#4'],\n",
       " ['A6', 'D#3', 'F6', 'C3', 'D-1', 'D#-1'],\n",
       " ['A#4', 'A3', 'A1', 'D7', 'F0', 'A5'],\n",
       " ['F5', 'A2', 'E1', 'D7', 'F1', 'C#3'],\n",
       " ['A4', 'F#4', 'B2', 'A6', 'D#6', 'D#3'],\n",
       " ['B4', 'A1', 'D#2', 'C#7', 'B1', 'C2'],\n",
       " ['A3', 'A#4', 'A3', 'A6', 'D#6', 'D#4'],\n",
       " ['C5', 'D3', 'A0', 'D7', 'G#0', 'F4'],\n",
       " ['D#5', 'A1', 'A#5', 'D4', 'A#6', 'G-1'],\n",
       " ['G#4', 'G1', 'C1', 'C#7', 'E2', 'A1'],\n",
       " ['G3', 'A3', 'B2', 'D7', 'F#0', 'F5'],\n",
       " ['F#4', 'C4', 'G#0', 'D7', 'C#0', 'C6'],\n",
       " ['F#6', 'E2', 'B0', 'B6', 'A-1', 'G#1'],\n",
       " ['D#4', 'F#3', 'D1', 'D7', 'E2', 'D#4'],\n",
       " ['G#5', 'E1', 'F#1', 'C7', 'A0', 'D#1'],\n",
       " ['G#6', 'C#4', 'A#6', 'F2', 'C#-1', 'D#-1'],\n",
       " ['E5', 'G#2', 'G#0', 'D7', 'G-1', 'A4'],\n",
       " ['F5', 'B3', 'F#1', 'D7', 'D0', 'F4'],\n",
       " ['D5', 'B3', 'F0', 'D7', 'A0', 'A#5'],\n",
       " ['C#5', 'E4', 'F2', 'D7', 'A0', 'C#5'],\n",
       " ['D5', 'F#2', 'F#0', 'D7', 'E1', 'F2'],\n",
       " ['F2', 'F#3', 'D#2', 'D7', 'B0', 'G4'],\n",
       " ['G6', 'B2', 'G#-1', 'C7', 'C#-1', 'D#1'],\n",
       " ['G5', 'A1', 'A1', 'B6', 'D#1', 'C1'],\n",
       " ['C#5', 'D4', 'F2', 'D7', 'D0', 'G5'],\n",
       " ['A#5', 'A2', 'A1', 'C#7', 'A#-1', 'F3'],\n",
       " ['F5', 'G2', 'G2', 'D7', 'G-1', 'E4'],\n",
       " ['A#4', 'B1', 'G#0', 'D7', 'G1', 'E2'],\n",
       " ['F5', 'G4', 'E2', 'C#7', 'A#0', 'G4'],\n",
       " ['C4', 'C3', 'D#1', 'D7', 'C2', 'E5'],\n",
       " ['G#4', 'C#3', 'B4', 'C#7', 'D0', 'F#4'],\n",
       " ['D#3', 'E4', 'A#4', 'D7', 'G0', 'G#5'],\n",
       " ['F1', 'C#5', 'G3', 'C#7', 'D#1', 'D#6'],\n",
       " ['B4', 'A3', 'F#2', 'D7', 'G0', 'F5'],\n",
       " ['C5', 'G2', 'A#2', 'D7', 'F#-1', 'G#4'],\n",
       " ['G#5', 'G2', 'G#1', 'C#7', 'F0', 'C3'],\n",
       " ['E5', 'G#0', 'B0', 'D7', 'A0', 'D2'],\n",
       " ['F#3', 'G6', 'G#2', 'A#6', 'G2', 'A#4'],\n",
       " ['E3', 'D#3', 'G#2', 'D7', 'G#1', 'G4'],\n",
       " ['F5', 'D#2', 'B0', 'D7', 'F-1', 'C4'],\n",
       " ['A5', 'A#2', 'A1', 'D7', 'A#0', 'A#3'],\n",
       " ['D#5', 'F4', 'C1', 'D7', 'G0', 'G4'],\n",
       " ['D#5', 'B2', 'D2', 'D7', 'A#0', 'G4'],\n",
       " ['E3', 'C5', 'B4', 'C#7', 'A#0', 'E5'],\n",
       " ['A#4', 'C#3', 'C2', 'D7', 'A1', 'E4'],\n",
       " ['F#3', 'D#4', 'G#3', 'A#6', 'D6', 'G#3'],\n",
       " ['D5', 'G#2', 'F#0', 'D7', 'F#0', 'F#3'],\n",
       " ['C5', 'G#5', 'B0', 'C#7', 'C1', 'D#6'],\n",
       " ['D#5', 'G5', 'A0', 'C#7', 'B0', 'D#4'],\n",
       " ['F6', 'D#2', 'E6', 'D#4', 'E-1', 'F-1'],\n",
       " ['B4', 'F2', 'B0', 'D7', 'B1', 'F#2'],\n",
       " ['C5', 'A3', 'A3', 'C#7', 'C0', 'F4'],\n",
       " ['D4', 'B3', 'G2', 'D7', 'A#1', 'F#4'],\n",
       " ['C5', 'E6', 'B0', 'B6', 'G#1', 'G4'],\n",
       " ['A4', 'A3', 'F1', 'D7', 'A-1', 'G#5'],\n",
       " ['D#4', 'B5', 'D2', 'C7', 'G-1', 'C4'],\n",
       " ['D#4', 'A#2', 'C#1', 'D7', 'G#2', 'D4'],\n",
       " ['E6', 'D2', 'A#1', 'F6', 'C#1', 'B-1'],\n",
       " ['A#5', 'A#1', 'A0', 'D7', 'D0', 'C#3'],\n",
       " ['D#2', 'B4', 'A#4', 'C7', 'D4', 'F5'],\n",
       " ['B5', 'F#2', 'F#2', 'C#7', 'E0', 'A#2'],\n",
       " ['E5', 'C#2', 'D1', 'D7', 'F-1', 'D4'],\n",
       " ['G3', 'D#4', 'A3', 'A#6', 'D#5', 'E3'],\n",
       " ['E5', 'A4', 'C#1', 'D7', 'A0', 'C#5'],\n",
       " ['G3', 'F5', 'B4', 'A6', 'D#6', 'D4'],\n",
       " ['A4', 'D3', 'G0', 'C#7', 'B1', 'D#2'],\n",
       " ['C4', 'F4', 'B2', 'D7', 'F#0', 'D#5'],\n",
       " ['G#4', 'E3', 'F#0', 'D7', 'B-1', 'F5'],\n",
       " ['G#3', 'A#3', 'C4', 'D7', 'D#0', 'A#5'],\n",
       " ['E5', 'A#0', 'F#0', 'D7', 'E1', 'A#1'],\n",
       " ['F4', 'A4', 'F#2', 'C7', 'A4', 'E3'],\n",
       " ['E6', 'C#2', 'G#2', 'B6', 'A-1', 'C#2'],\n",
       " ['C#5', 'E1', 'A1', 'C#7', 'A1', 'F#1'],\n",
       " ['G4', 'E1', 'C3', 'C#7', 'C#2', 'D#2'],\n",
       " ['F#3', 'B3', 'C3', 'D7', 'A#-1', 'D6'],\n",
       " ['D#4', 'E3', 'E1', 'D7', 'D#2', 'C4'],\n",
       " ['A4', 'B2', 'E1', 'D7', 'B0', 'D5'],\n",
       " ['G#5', 'D1', 'E0', 'C#7', 'G0', 'G#1'],\n",
       " ['D#5', 'E3', 'D#1', 'D7', 'E0', 'B4'],\n",
       " ['C6', 'D#2', 'D#2', 'B6', 'F#1', 'F1'],\n",
       " ['D4', 'A#2', 'B1', 'D7', 'A#1', 'G#2'],\n",
       " ['G#5', 'D#3', 'D#1', 'D7', 'F#0', 'D4'],\n",
       " ['C#6', 'F#2', 'G2', 'C7', 'A0', 'E2'],\n",
       " ['B3', 'F#2', 'C1', 'D7', 'F#0', 'E5'],\n",
       " ['C6', 'B1', 'A1', 'C#7', 'F0', 'F2'],\n",
       " ['C#4', 'D#2', 'D#5', 'D5', 'A6', 'B-1'],\n",
       " ['D#5', 'F3', 'G1', 'D7', 'F1', 'A3'],\n",
       " ['B4', 'D#5', 'D#2', 'C#7', 'G0', 'E5'],\n",
       " ['D5', 'G#3', 'C#1', 'D7', 'G0', 'A#5'],\n",
       " ['F4', 'G#4', 'C1', 'C#7', 'F2', 'F#3'],\n",
       " ['A5', 'E1', 'A#1', 'D7', 'D#0', 'F#3'],\n",
       " ['F3', 'D#2', 'D4', 'D#7', 'F0', 'D#5'],\n",
       " ['C5', 'D#1', 'F#0', 'D7', 'G#1', 'G#2'],\n",
       " ['F5', 'F#2', 'G1', 'C#7', 'A1', 'D#2'],\n",
       " ['A#5', 'E2', 'E1', 'D7', 'G0', 'D4'],\n",
       " ['F#5', 'C#3', 'D#1', 'D7', 'F#0', 'D4'],\n",
       " ['D#3', 'G#2', 'E4', 'D7', 'B1', 'F4'],\n",
       " ['A4', 'D3', 'B1', 'D7', 'G0', 'F#5'],\n",
       " ['E4', 'B2', 'E1', 'D7', 'D2', 'A3'],\n",
       " ['F5', 'C2', 'G#1', 'C7', 'G1', 'G1'],\n",
       " ['D#3', 'D4', 'D4', 'D7', 'A1', 'A5'],\n",
       " ['F#4', 'A#2', 'A5', 'B4', 'B6', 'C#0'],\n",
       " ['D5', 'F1', 'C#2', 'C#7', 'G#1', 'E2'],\n",
       " ['D5', 'F#3', 'A1', 'D7', 'G1', 'C#4'],\n",
       " ['A3', 'A#3', 'G2', 'D7', 'G2', 'C4'],\n",
       " ['G5', 'E1', 'D#1', 'A#6', 'B1', 'F0'],\n",
       " ['F4', 'E3', 'E1', 'D7', 'F#2', 'D4'],\n",
       " ['G4', 'C#4', 'A2', 'D7', 'C#0', 'F#5'],\n",
       " ['B2', 'F4', 'E4', 'D7', 'A0', 'G5'],\n",
       " ['A#3', 'A3', 'F3', 'D7', 'C1', 'C5'],\n",
       " ['D#5', 'D4', 'A1', 'D7', 'C1', 'D5'],\n",
       " ['G4', 'E3', 'F#1', 'D7', 'E2', 'E4'],\n",
       " ['E2', 'C4', 'G3', 'A6', 'A6', 'C#4'],\n",
       " ['D5', 'A1', 'E0', 'D7', 'E1', 'F3'],\n",
       " ['F5', 'E2', 'G1', 'C#7', 'C2', 'E2'],\n",
       " ['A4', 'C2', 'F#0', 'C#7', 'C2', 'G#1'],\n",
       " ['B3', 'F3', 'B1', 'D7', 'F3', 'E3'],\n",
       " ['G#4', 'F3', 'F2', 'D7', 'F2', 'D4'],\n",
       " ['F#3', 'G2', 'D#4', 'D7', 'F0', 'C#5'],\n",
       " ['G6', 'G2', 'F#2', 'A6', 'A#-1', 'C#1'],\n",
       " ['A#4', 'G3', 'G#1', 'D7', 'G#1', 'B3'],\n",
       " ['D4', 'E3', 'A#1', 'D7', 'A2', 'C4'],\n",
       " ['B3', 'G1', 'A5', 'C7', 'B0', 'A1'],\n",
       " ['F#4', 'D4', 'A0', 'C#7', 'B1', 'C#3'],\n",
       " ['A#4', 'D4', 'G3', 'D7', 'F0', 'A#4'],\n",
       " ['D4', 'F4', 'A0', 'D7', 'B-1', 'C6'],\n",
       " ['F4', 'C#4', 'C#2', 'D7', 'G2', 'F4'],\n",
       " ['B4', 'F3', 'D1', 'D7', 'C#1', 'F#4'],\n",
       " ['F#5', 'E1', 'F2', 'C7', 'E1', 'D#1'],\n",
       " ['C#4', 'B3', 'F#2', 'D7', 'A#0', 'D6'],\n",
       " ['A#4', 'C#3', 'G#1', 'D7', 'E1', 'C#5'],\n",
       " ['F#5', 'D3', 'F3', 'C#7', 'G#-1', 'A3'],\n",
       " ['D#5', 'G#3', 'C#0', 'D7', 'G0', 'C5'],\n",
       " ['D#5', 'C#2', 'A2', 'C#7', 'G0', 'A#2'],\n",
       " ['G#4', 'G4', 'C3', 'A6', 'D#6', 'D3'],\n",
       " ['A4', 'C#2', 'F0', 'D7', 'C#2', 'D3'],\n",
       " ['A#4', 'F#2', 'F#1', 'D7', 'C#1', 'D#4'],\n",
       " ['B4', 'F3', 'G#2', 'D7', 'G#-1', 'A#4'],\n",
       " ['E4', 'E5', 'G#1', 'C#7', 'D#1', 'C#4'],\n",
       " ['B2', 'G2', 'E2', 'D7', 'D3', 'G#3'],\n",
       " ['A3', 'F3', 'G#1', 'D#7', 'G#-1', 'C#6'],\n",
       " ['B4', 'E2', 'C#1', 'D7', 'C1', 'G#4'],\n",
       " ['A#3', 'G3', 'G#1', 'F#6', 'D6', 'B0'],\n",
       " ['E5', 'A#2', 'A#0', 'D7', 'G-1', 'D#4'],\n",
       " ['E5', 'B0', 'F#0', 'D7', 'A#1', 'F#1'],\n",
       " ['C#3', 'D#3', 'C3', 'D7', 'D#2', 'A3'],\n",
       " ['E4', 'G1', 'C2', 'C#7', 'C#1', 'C2'],\n",
       " ['B4', 'F#1', 'B0', 'C#7', 'D#2', 'E1'],\n",
       " ['G2', 'B4', 'C5', 'C#7', 'F#2', 'A5'],\n",
       " ['F#5', 'G3', 'F#1', 'D7', 'E0', 'F#4'],\n",
       " ['C#5', 'C2', 'F0', 'D7', 'E1', 'E3'],\n",
       " ['E3', 'D#5', 'C3', 'C#7', 'A#-1', 'G#4'],\n",
       " ['A#6', 'G6', 'C#7', 'A0', 'C#-1', 'D-1'],\n",
       " ['F4', 'F#1', 'D#5', 'C7', 'C1', 'C2'],\n",
       " ['D5', 'G3', 'F#1', 'D7', 'C#1', 'D5'],\n",
       " ['B4', 'A#1', 'F#0', 'D7', 'C2', 'C#3'],\n",
       " ['A3', 'B6', 'F3', 'A5', 'B5', 'A#1'],\n",
       " ['D#3', 'A3', 'A#3', 'D6', 'D7', 'C#3'],\n",
       " ['D#4', 'G#4', 'A#2', 'C#7', 'F#1', 'D4'],\n",
       " ['F2', 'G1', 'D3', 'D#7', 'D#0', 'F#4'],\n",
       " ['G4', 'C#3', 'D2', 'D7', 'D#2', 'G3'],\n",
       " ['C#4', 'G4', 'A#1', 'B6', 'B5', 'C3'],\n",
       " ['C#5', 'D2', 'D#0', 'D#7', 'E0', 'A#4'],\n",
       " ['G5', 'F1', 'F1', 'D7', 'F-1', 'F3'],\n",
       " ['E6', 'A#1', 'C#5', 'F6', 'G-1', 'G#0'],\n",
       " ['C#4', 'F2', 'D#2', 'D7', 'F#2', 'C3'],\n",
       " ['G5', 'A2', 'F#1', 'D7', 'A#0', 'E3'],\n",
       " ['A#3', 'G2', 'A#1', 'D7', 'C2', 'B2'],\n",
       " ['E5', 'D2', 'G#0', 'D7', 'A#-1', 'A4'],\n",
       " ['D#5', 'G4', 'B0', 'C#7', 'F1', 'A#3'],\n",
       " ['D#2', 'G3', 'F#3', 'D#7', 'E0', 'G6'],\n",
       " ['E5', 'C#4', 'A#0', 'D7', 'D1', 'A3'],\n",
       " ['D5', 'F2', 'E0', 'D7', 'E1', 'A#3'],\n",
       " ['A#4', 'D#3', 'C2', 'C#7', 'G2', 'C#3'],\n",
       " ['G2', 'B4', 'G4', 'D7', 'D#1', 'B5'],\n",
       " ['D#5', 'G3', 'G#1', 'D7', 'G#0', 'C#5'],\n",
       " ['C#5', 'G3', 'F#1', 'D7', 'D1', 'A#4'],\n",
       " ['C6', 'A#2', 'D#1', 'C#7', 'D2', 'G#2'],\n",
       " ['G#4', 'F3', 'B1', 'D7', 'F2', 'E3'],\n",
       " ['B4', 'E2', 'C2', 'D7', 'A-1', 'G4'],\n",
       " ['D5', 'C#1', 'C#1', 'C#7', 'C2', 'D1'],\n",
       " ['C3', 'C#2', 'G2', 'D#7', 'A#0', 'D#4'],\n",
       " ['E6', 'A2', 'G#2', 'B6', 'C0', 'C2'],\n",
       " ['A#4', 'B1', 'F#3', 'C5', 'A#6', 'A-1'],\n",
       " ['G4', 'E4', 'C#3', 'D7', 'F0', 'F#5'],\n",
       " ['A3', 'B2', 'F2', 'D7', 'F2', 'A3'],\n",
       " ['F6', 'D3', 'A3', 'A#5', 'F-1', 'A#-1'],\n",
       " ['A#4', 'A2', 'A#3', 'D7', 'A#-1', 'A4'],\n",
       " ['B2', 'G3', 'A4', 'D7', 'A#0', 'G#5'],\n",
       " ['A5', 'G4', 'D1', 'C#7', 'A#0', 'C#4'],\n",
       " ['A6', 'A2', 'C#3', 'E6', 'G#4', 'F#0'],\n",
       " ['F5', 'E2', 'A0', 'D7', 'A-1', 'B4'],\n",
       " ['G#3', 'G2', 'D#1', 'D7', 'D3', 'E3'],\n",
       " ['C-1', 'C-1', 'C-1', 'C-1', 'C-1', 'C-1']]"
      ]
     },
     "execution_count": 118,
     "metadata": {},
     "output_type": "execute_result"
    }
   ],
   "source": [
    "chords"
   ]
  },
  {
   "cell_type": "code",
   "execution_count": 121,
   "metadata": {},
   "outputs": [],
   "source": [
    "from music21 import *"
   ]
  },
  {
   "cell_type": "code",
   "execution_count": 138,
   "metadata": {},
   "outputs": [
    {
     "data": {
      "text/plain": [
       "['E6', 'A#1', 'A#1', 'C7', 'C0', 'C2']"
      ]
     },
     "execution_count": 138,
     "metadata": {},
     "output_type": "execute_result"
    }
   ],
   "source": [
    "chords[2]"
   ]
  },
  {
   "cell_type": "code",
   "execution_count": 151,
   "metadata": {},
   "outputs": [
    {
     "data": {
      "text/plain": [
       "'incomplete dominant-seventh chord'"
      ]
     },
     "execution_count": 151,
     "metadata": {},
     "output_type": "execute_result"
    }
   ],
   "source": [
    "chord1 = chord.Chord(chords[2])\n",
    "chord1.commonName"
   ]
  },
  {
   "cell_type": "code",
   "execution_count": 152,
   "metadata": {},
   "outputs": [
    {
     "data": {
      "text/plain": [
       "<music21.pitch.Pitch A#1>"
      ]
     },
     "execution_count": 152,
     "metadata": {},
     "output_type": "execute_result"
    }
   ],
   "source": [
    "chord1.root()"
   ]
  },
  {
   "cell_type": "code",
   "execution_count": 165,
   "metadata": {},
   "outputs": [
    {
     "data": {
      "text/plain": [
       "<music21.chord.Chord A#1>"
      ]
     },
     "execution_count": 165,
     "metadata": {},
     "output_type": "execute_result"
    }
   ],
   "source": [
    "chord_ref = ['A#1']\n",
    "chord2 = chord.Chord(chord_ref)\n",
    "chord2"
   ]
  },
  {
   "cell_type": "code",
   "execution_count": 154,
   "metadata": {},
   "outputs": [
    {
     "data": {
      "text/plain": [
       "<music21.pitch.Pitch A#1>"
      ]
     },
     "execution_count": 154,
     "metadata": {},
     "output_type": "execute_result"
    }
   ],
   "source": [
    "chord2.root()"
   ]
  },
  {
   "cell_type": "code",
   "execution_count": null,
   "metadata": {},
   "outputs": [],
   "source": [
    "spectra_reff = np.zeros(len(new_chords), dtype=int)\n",
    "for i in range(len(new_chords)):\n",
    "    for j in range(len(spectra_strings)):\n",
    "        chord1 = chord.Chord(new_chords[i])\n",
    "        chord2 = chord.Chord(spectra_chords[j])\n",
    "        if chord2.root() == chord1.root():\n",
    "            final_chords[i] = spectra_strings[j]\n",
    "            spectra_reff[i] = j\n",
    " "
   ]
  },
  {
   "cell_type": "code",
   "execution_count": 159,
   "metadata": {
    "scrolled": true
   },
   "outputs": [
    {
     "data": {
      "text/plain": [
       "True"
      ]
     },
     "execution_count": 159,
     "metadata": {},
     "output_type": "execute_result"
    }
   ],
   "source": [
    "chord1.root () == chord2.root ()"
   ]
  }
 ],
 "metadata": {
  "kernelspec": {
   "display_name": "Python 3 (ipykernel)",
   "language": "python",
   "name": "python3"
  },
  "language_info": {
   "codemirror_mode": {
    "name": "ipython",
    "version": 3
   },
   "file_extension": ".py",
   "mimetype": "text/x-python",
   "name": "python",
   "nbconvert_exporter": "python",
   "pygments_lexer": "ipython3",
   "version": "3.8.5"
  }
 },
 "nbformat": 4,
 "nbformat_minor": 4
}
